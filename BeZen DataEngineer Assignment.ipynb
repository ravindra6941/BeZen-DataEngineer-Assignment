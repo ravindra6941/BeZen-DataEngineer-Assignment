{
 "cells": [
  {
   "cell_type": "code",
   "execution_count": 1,
   "id": "ed684ae6",
   "metadata": {},
   "outputs": [],
   "source": [
    "## import libraries\n",
    "\n",
    "import numpy as np\n",
    "import pandas as pd\n",
    "\n",
    "import seaborn as sns\n",
    "import matplotlib.pyplot as plt"
   ]
  },
  {
   "cell_type": "code",
   "execution_count": 2,
   "id": "91ad7f82",
   "metadata": {},
   "outputs": [
    {
     "data": {
      "text/html": [
       "<div>\n",
       "<style scoped>\n",
       "    .dataframe tbody tr th:only-of-type {\n",
       "        vertical-align: middle;\n",
       "    }\n",
       "\n",
       "    .dataframe tbody tr th {\n",
       "        vertical-align: top;\n",
       "    }\n",
       "\n",
       "    .dataframe thead th {\n",
       "        text-align: right;\n",
       "    }\n",
       "</style>\n",
       "<table border=\"1\" class=\"dataframe\">\n",
       "  <thead>\n",
       "    <tr style=\"text-align: right;\">\n",
       "      <th></th>\n",
       "      <th>uuid</th>\n",
       "      <th>price_string</th>\n",
       "      <th>price_string_unf</th>\n",
       "      <th>product_type</th>\n",
       "      <th>level_1</th>\n",
       "      <th>category</th>\n",
       "    </tr>\n",
       "  </thead>\n",
       "  <tbody>\n",
       "    <tr>\n",
       "      <th>0</th>\n",
       "      <td>638744a4-b0ae-4166-8cb6-5c063c862036</td>\n",
       "      <td>NaN</td>\n",
       "      <td>NaN</td>\n",
       "      <td>TGFwdG9wIENvdmVycy9CYWdz</td>\n",
       "      <td>TGFwdG9wIENhc2U</td>\n",
       "      <td>RWxlY3Ryb25pY3M</td>\n",
       "    </tr>\n",
       "    <tr>\n",
       "      <th>1</th>\n",
       "      <td>ab313969-02cc-48b2-9daf-0054efb70b92</td>\n",
       "      <td>NaN</td>\n",
       "      <td>NaN</td>\n",
       "      <td>QmFraW5nIEN1cHMgYW5kIE1hdHM</td>\n",
       "      <td>QmFraW5nIE1hdHMgLyBCYWtpbmcgZGlzaA</td>\n",
       "      <td>a2l0Y2hpbmcgYW5kIGRpbmluZw</td>\n",
       "    </tr>\n",
       "  </tbody>\n",
       "</table>\n",
       "</div>"
      ],
      "text/plain": [
       "                                   uuid price_string price_string_unf  \\\n",
       "0  638744a4-b0ae-4166-8cb6-5c063c862036          NaN              NaN   \n",
       "1  ab313969-02cc-48b2-9daf-0054efb70b92          NaN              NaN   \n",
       "\n",
       "                  product_type                             level_1  \\\n",
       "0     TGFwdG9wIENvdmVycy9CYWdz                     TGFwdG9wIENhc2U   \n",
       "1  QmFraW5nIEN1cHMgYW5kIE1hdHM  QmFraW5nIE1hdHMgLyBCYWtpbmcgZGlzaA   \n",
       "\n",
       "                     category  \n",
       "0             RWxlY3Ryb25pY3M  \n",
       "1  a2l0Y2hpbmcgYW5kIGRpbmluZw  "
      ]
     },
     "execution_count": 2,
     "metadata": {},
     "output_type": "execute_result"
    }
   ],
   "source": [
    "## read data\n",
    "\n",
    "df = pd.read_csv('2022_02_08-02_30_31_AM.csv')\n",
    "\n",
    "df.head(2)"
   ]
  },
  {
   "cell_type": "markdown",
   "id": "284df930",
   "metadata": {},
   "source": [
    "### Some EDA and data processing"
   ]
  },
  {
   "cell_type": "code",
   "execution_count": 3,
   "id": "7d93694f",
   "metadata": {},
   "outputs": [
    {
     "data": {
      "text/plain": [
       "596"
      ]
     },
     "execution_count": 3,
     "metadata": {},
     "output_type": "execute_result"
    }
   ],
   "source": [
    "len(df.level_1.unique())"
   ]
  },
  {
   "cell_type": "code",
   "execution_count": 4,
   "id": "26dd0a63",
   "metadata": {},
   "outputs": [
    {
     "data": {
      "text/plain": [
       "pandas.core.series.Series"
      ]
     },
     "execution_count": 4,
     "metadata": {},
     "output_type": "execute_result"
    }
   ],
   "source": [
    "type(df.price_string)"
   ]
  },
  {
   "cell_type": "code",
   "execution_count": 5,
   "id": "a1024844",
   "metadata": {},
   "outputs": [
    {
     "data": {
      "text/plain": [
       "float"
      ]
     },
     "execution_count": 5,
     "metadata": {},
     "output_type": "execute_result"
    }
   ],
   "source": [
    "type(df.price_string[0])"
   ]
  },
  {
   "cell_type": "code",
   "execution_count": 6,
   "id": "d1867863",
   "metadata": {},
   "outputs": [],
   "source": [
    "df['price'] = df['price_string'].astype(str)\n",
    "df['price_unf'] = df['price_string_unf'].astype(str)"
   ]
  },
  {
   "cell_type": "markdown",
   "id": "250be252",
   "metadata": {},
   "source": [
    "### 1. Products without prices"
   ]
  },
  {
   "cell_type": "code",
   "execution_count": 7,
   "id": "fb6bdf21",
   "metadata": {},
   "outputs": [],
   "source": [
    "df1 = df.loc[(df['price'] == 'nan') & (df['price_unf'] == 'nan')]"
   ]
  },
  {
   "cell_type": "code",
   "execution_count": 8,
   "id": "26cd3719",
   "metadata": {},
   "outputs": [],
   "source": [
    "product_without_prices = [i for i in df1['uuid']]"
   ]
  },
  {
   "cell_type": "code",
   "execution_count": 9,
   "id": "dcd1e333",
   "metadata": {},
   "outputs": [
    {
     "name": "stdout",
     "output_type": "stream",
     "text": [
      "Total number of product without prices 8150000\n"
     ]
    }
   ],
   "source": [
    "print('Total number of product without prices',len(product_without_prices))"
   ]
  },
  {
   "cell_type": "markdown",
   "id": "39d5483b",
   "metadata": {},
   "source": [
    "'product_without_prices' is a list containing all products without price\n"
   ]
  },
  {
   "cell_type": "markdown",
   "id": "e8bbd8fe",
   "metadata": {},
   "source": [
    "### 2. Count of products without prices and with prices in each Product Type, Category, Level 1"
   ]
  },
  {
   "cell_type": "code",
   "execution_count": 10,
   "id": "a0b138a0",
   "metadata": {},
   "outputs": [],
   "source": [
    "count_of_product_without_prices = len(df.loc[(df['price'] == 'nan') & (df['price_unf'] == 'nan')])"
   ]
  },
  {
   "cell_type": "code",
   "execution_count": 11,
   "id": "7ca09d64",
   "metadata": {},
   "outputs": [
    {
     "data": {
      "text/plain": [
       "8150000"
      ]
     },
     "execution_count": 11,
     "metadata": {},
     "output_type": "execute_result"
    }
   ],
   "source": [
    "count_of_product_without_prices"
   ]
  },
  {
   "cell_type": "code",
   "execution_count": 12,
   "id": "9701f816",
   "metadata": {},
   "outputs": [],
   "source": [
    "count_of_product_with_prices = len(df.loc[(df['price'] != 'nan') | (df['price_unf'] != 'nan')])"
   ]
  },
  {
   "cell_type": "code",
   "execution_count": 13,
   "id": "d753772f",
   "metadata": {},
   "outputs": [
    {
     "data": {
      "text/plain": [
       "5580000"
      ]
     },
     "execution_count": 13,
     "metadata": {},
     "output_type": "execute_result"
    }
   ],
   "source": [
    "count_of_product_with_prices"
   ]
  },
  {
   "cell_type": "markdown",
   "id": "040f6487",
   "metadata": {},
   "source": [
    "### 3. Correct Product Prices in the correct format (eg: $56) wherever possible and separate them into currency and value columns."
   ]
  },
  {
   "cell_type": "code",
   "execution_count": 14,
   "id": "1b4118ec",
   "metadata": {},
   "outputs": [],
   "source": [
    "import re"
   ]
  },
  {
   "cell_type": "code",
   "execution_count": 15,
   "id": "060e8429",
   "metadata": {},
   "outputs": [
    {
     "data": {
      "text/plain": [
       "'$19.95'"
      ]
     },
     "execution_count": 15,
     "metadata": {},
     "output_type": "execute_result"
    }
   ],
   "source": [
    "re.sub('[A-Za-z]','','$19.95asd')"
   ]
  },
  {
   "cell_type": "code",
   "execution_count": 16,
   "id": "21909550",
   "metadata": {},
   "outputs": [],
   "source": [
    "lst = df['price'].tolist()\n",
    "lst1 = []\n",
    "for i in lst:\n",
    "    if i == 'nan':\n",
    "        lst1.append(i)\n",
    "    else:\n",
    "        lst1.append(re.sub('[A-Za-z]','',i))\n",
    "        \n",
    "df['price_new'] = lst"
   ]
  },
  {
   "cell_type": "code",
   "execution_count": 17,
   "id": "1112eb1a",
   "metadata": {},
   "outputs": [
    {
     "data": {
      "text/plain": [
       "0       nan\n",
       "1       nan\n",
       "2    $19.95\n",
       "3    $92.00\n",
       "4     11.50\n",
       "Name: price_new, dtype: object"
      ]
     },
     "execution_count": 17,
     "metadata": {},
     "output_type": "execute_result"
    }
   ],
   "source": [
    "df['price_new'].head(5)"
   ]
  },
  {
   "cell_type": "code",
   "execution_count": 18,
   "id": "ea79d274",
   "metadata": {},
   "outputs": [],
   "source": [
    "lst2 = []\n",
    "for i in lst1:\n",
    "    if i == 'nan':\n",
    "        lst2.append(i)\n",
    "    else:\n",
    "        lst2.append((re.sub('[$A-Za-z]','',i)))\n",
    "        \n",
    "df['price_value'] = lst2\n",
    "df['price_value'] = df['price_value'].astype(float)"
   ]
  },
  {
   "cell_type": "code",
   "execution_count": 19,
   "id": "59dd583d",
   "metadata": {
    "scrolled": true
   },
   "outputs": [
    {
     "data": {
      "text/plain": [
       "0      NaN\n",
       "1      NaN\n",
       "2    19.95\n",
       "3    92.00\n",
       "4    11.50\n",
       "Name: price_value, dtype: float64"
      ]
     },
     "execution_count": 19,
     "metadata": {},
     "output_type": "execute_result"
    }
   ],
   "source": [
    "df['price_value'].head(5)"
   ]
  },
  {
   "cell_type": "code",
   "execution_count": 20,
   "id": "c41f818d",
   "metadata": {},
   "outputs": [
    {
     "data": {
      "text/html": [
       "<div>\n",
       "<style scoped>\n",
       "    .dataframe tbody tr th:only-of-type {\n",
       "        vertical-align: middle;\n",
       "    }\n",
       "\n",
       "    .dataframe tbody tr th {\n",
       "        vertical-align: top;\n",
       "    }\n",
       "\n",
       "    .dataframe thead th {\n",
       "        text-align: right;\n",
       "    }\n",
       "</style>\n",
       "<table border=\"1\" class=\"dataframe\">\n",
       "  <thead>\n",
       "    <tr style=\"text-align: right;\">\n",
       "      <th></th>\n",
       "      <th>uuid</th>\n",
       "      <th>price_string</th>\n",
       "      <th>price_string_unf</th>\n",
       "      <th>product_type</th>\n",
       "      <th>level_1</th>\n",
       "      <th>category</th>\n",
       "      <th>price</th>\n",
       "      <th>price_unf</th>\n",
       "      <th>price_new</th>\n",
       "      <th>price_value</th>\n",
       "    </tr>\n",
       "  </thead>\n",
       "  <tbody>\n",
       "    <tr>\n",
       "      <th>0</th>\n",
       "      <td>638744a4-b0ae-4166-8cb6-5c063c862036</td>\n",
       "      <td>NaN</td>\n",
       "      <td>NaN</td>\n",
       "      <td>TGFwdG9wIENvdmVycy9CYWdz</td>\n",
       "      <td>TGFwdG9wIENhc2U</td>\n",
       "      <td>RWxlY3Ryb25pY3M</td>\n",
       "      <td>nan</td>\n",
       "      <td>nan</td>\n",
       "      <td>nan</td>\n",
       "      <td>NaN</td>\n",
       "    </tr>\n",
       "    <tr>\n",
       "      <th>1</th>\n",
       "      <td>ab313969-02cc-48b2-9daf-0054efb70b92</td>\n",
       "      <td>NaN</td>\n",
       "      <td>NaN</td>\n",
       "      <td>QmFraW5nIEN1cHMgYW5kIE1hdHM</td>\n",
       "      <td>QmFraW5nIE1hdHMgLyBCYWtpbmcgZGlzaA</td>\n",
       "      <td>a2l0Y2hpbmcgYW5kIGRpbmluZw</td>\n",
       "      <td>nan</td>\n",
       "      <td>nan</td>\n",
       "      <td>nan</td>\n",
       "      <td>NaN</td>\n",
       "    </tr>\n",
       "    <tr>\n",
       "      <th>2</th>\n",
       "      <td>acbd66ff-79f8-467a-91f9-108a45af5626</td>\n",
       "      <td>$19.95</td>\n",
       "      <td>NaN</td>\n",
       "      <td>R3VtbWllcyB2aXRhbWlucyBhbmQgbWluZXJhbHMgZm9yIG...</td>\n",
       "      <td>SW1tdW5pdHkgZ3VtbWllcw</td>\n",
       "      <td>SGVhbHRo</td>\n",
       "      <td>$19.95</td>\n",
       "      <td>nan</td>\n",
       "      <td>$19.95</td>\n",
       "      <td>19.95</td>\n",
       "    </tr>\n",
       "    <tr>\n",
       "      <th>3</th>\n",
       "      <td>963915d6-b2e3-4098-b242-9410593cf205</td>\n",
       "      <td>$92.00</td>\n",
       "      <td>NaN</td>\n",
       "      <td>U2VydW1z</td>\n",
       "      <td>RmFjZSBTZXJ1bQ</td>\n",
       "      <td>YmVhdXR5IGFuZCBwZXJzb25hbCBjYXJl</td>\n",
       "      <td>$92.00</td>\n",
       "      <td>nan</td>\n",
       "      <td>$92.00</td>\n",
       "      <td>92.00</td>\n",
       "    </tr>\n",
       "    <tr>\n",
       "      <th>4</th>\n",
       "      <td>b5b68f3c-b1e0-40e5-8ee5-e2f7236c1daf</td>\n",
       "      <td>11.50</td>\n",
       "      <td>NaN</td>\n",
       "      <td>RWF0aW5nIFV0ZW5zaWxzL0N1dGxlcnk</td>\n",
       "      <td>Q2hvcHN0aWNrcw</td>\n",
       "      <td>a2l0Y2hpbmcgYW5kIGRpbmluZw</td>\n",
       "      <td>11.50</td>\n",
       "      <td>nan</td>\n",
       "      <td>11.50</td>\n",
       "      <td>11.50</td>\n",
       "    </tr>\n",
       "  </tbody>\n",
       "</table>\n",
       "</div>"
      ],
      "text/plain": [
       "                                   uuid price_string price_string_unf  \\\n",
       "0  638744a4-b0ae-4166-8cb6-5c063c862036          NaN              NaN   \n",
       "1  ab313969-02cc-48b2-9daf-0054efb70b92          NaN              NaN   \n",
       "2  acbd66ff-79f8-467a-91f9-108a45af5626       $19.95              NaN   \n",
       "3  963915d6-b2e3-4098-b242-9410593cf205       $92.00              NaN   \n",
       "4  b5b68f3c-b1e0-40e5-8ee5-e2f7236c1daf        11.50              NaN   \n",
       "\n",
       "                                        product_type  \\\n",
       "0                           TGFwdG9wIENvdmVycy9CYWdz   \n",
       "1                        QmFraW5nIEN1cHMgYW5kIE1hdHM   \n",
       "2  R3VtbWllcyB2aXRhbWlucyBhbmQgbWluZXJhbHMgZm9yIG...   \n",
       "3                                           U2VydW1z   \n",
       "4                    RWF0aW5nIFV0ZW5zaWxzL0N1dGxlcnk   \n",
       "\n",
       "                              level_1                          category  \\\n",
       "0                     TGFwdG9wIENhc2U                   RWxlY3Ryb25pY3M   \n",
       "1  QmFraW5nIE1hdHMgLyBCYWtpbmcgZGlzaA        a2l0Y2hpbmcgYW5kIGRpbmluZw   \n",
       "2              SW1tdW5pdHkgZ3VtbWllcw                          SGVhbHRo   \n",
       "3                      RmFjZSBTZXJ1bQ  YmVhdXR5IGFuZCBwZXJzb25hbCBjYXJl   \n",
       "4                      Q2hvcHN0aWNrcw        a2l0Y2hpbmcgYW5kIGRpbmluZw   \n",
       "\n",
       "    price price_unf price_new  price_value  \n",
       "0     nan       nan       nan          NaN  \n",
       "1     nan       nan       nan          NaN  \n",
       "2  $19.95       nan    $19.95        19.95  \n",
       "3  $92.00       nan    $92.00        92.00  \n",
       "4   11.50       nan     11.50        11.50  "
      ]
     },
     "execution_count": 20,
     "metadata": {},
     "output_type": "execute_result"
    }
   ],
   "source": [
    "df.head(5)"
   ]
  },
  {
   "cell_type": "markdown",
   "id": "d897bcb1",
   "metadata": {},
   "source": [
    "### 4.List out the categories with average price of product."
   ]
  },
  {
   "cell_type": "code",
   "execution_count": 21,
   "id": "bfbc6c56",
   "metadata": {},
   "outputs": [
    {
     "data": {
      "text/html": [
       "<div>\n",
       "<style scoped>\n",
       "    .dataframe tbody tr th:only-of-type {\n",
       "        vertical-align: middle;\n",
       "    }\n",
       "\n",
       "    .dataframe tbody tr th {\n",
       "        vertical-align: top;\n",
       "    }\n",
       "\n",
       "    .dataframe thead th {\n",
       "        text-align: right;\n",
       "    }\n",
       "</style>\n",
       "<table border=\"1\" class=\"dataframe\">\n",
       "  <thead>\n",
       "    <tr style=\"text-align: right;\">\n",
       "      <th></th>\n",
       "      <th>price_value</th>\n",
       "    </tr>\n",
       "    <tr>\n",
       "      <th>category</th>\n",
       "      <th></th>\n",
       "    </tr>\n",
       "  </thead>\n",
       "  <tbody>\n",
       "    <tr>\n",
       "      <th>Q2xvdGhpbmcgYW5kIEFjY2Vzc29yaWVz</th>\n",
       "      <td>125.413871</td>\n",
       "    </tr>\n",
       "    <tr>\n",
       "      <th>QXJ0IHN1cHBsaWVz</th>\n",
       "      <td>19.471053</td>\n",
       "    </tr>\n",
       "    <tr>\n",
       "      <th>QmFieWNhcmU</th>\n",
       "      <td>163.688889</td>\n",
       "    </tr>\n",
       "    <tr>\n",
       "      <th>RWxlY3Ryb25pY3M</th>\n",
       "      <td>60.258182</td>\n",
       "    </tr>\n",
       "    <tr>\n",
       "      <th>SG91c2Vob2xkIGFuZCBDbGVhbmluZw</th>\n",
       "      <td>76.199000</td>\n",
       "    </tr>\n",
       "    <tr>\n",
       "      <th>SGVhbHRo</th>\n",
       "      <td>32.557586</td>\n",
       "    </tr>\n",
       "    <tr>\n",
       "      <th>VG95cyBhbmQgR2FtZXM</th>\n",
       "      <td>32.448947</td>\n",
       "    </tr>\n",
       "    <tr>\n",
       "      <th>VG9vbHMgYW5kIGhvbWUgaW1wcm92ZW1lbnQ</th>\n",
       "      <td>82.223500</td>\n",
       "    </tr>\n",
       "    <tr>\n",
       "      <th>YmVhdXR5IGFuZCBwZXJzb25hbCBjYXJl</th>\n",
       "      <td>34.745067</td>\n",
       "    </tr>\n",
       "    <tr>\n",
       "      <th>Z3JvY2VyaWVz</th>\n",
       "      <td>10.541667</td>\n",
       "    </tr>\n",
       "    <tr>\n",
       "      <th>a2l0Y2hpbmcgYW5kIGRpbmluZw</th>\n",
       "      <td>16.703235</td>\n",
       "    </tr>\n",
       "    <tr>\n",
       "      <th>b2ZmaWNlIHByb2R1Y3Rz</th>\n",
       "      <td>20.480000</td>\n",
       "    </tr>\n",
       "    <tr>\n",
       "      <th>cGV0IHN1cHBsaWVz</th>\n",
       "      <td>14.181875</td>\n",
       "    </tr>\n",
       "  </tbody>\n",
       "</table>\n",
       "</div>"
      ],
      "text/plain": [
       "                                     price_value\n",
       "category                                        \n",
       "Q2xvdGhpbmcgYW5kIEFjY2Vzc29yaWVz      125.413871\n",
       "QXJ0IHN1cHBsaWVz                       19.471053\n",
       "QmFieWNhcmU                           163.688889\n",
       "RWxlY3Ryb25pY3M                        60.258182\n",
       "SG91c2Vob2xkIGFuZCBDbGVhbmluZw         76.199000\n",
       "SGVhbHRo                               32.557586\n",
       "VG95cyBhbmQgR2FtZXM                    32.448947\n",
       "VG9vbHMgYW5kIGhvbWUgaW1wcm92ZW1lbnQ    82.223500\n",
       "YmVhdXR5IGFuZCBwZXJzb25hbCBjYXJl       34.745067\n",
       "Z3JvY2VyaWVz                           10.541667\n",
       "a2l0Y2hpbmcgYW5kIGRpbmluZw             16.703235\n",
       "b2ZmaWNlIHByb2R1Y3Rz                   20.480000\n",
       "cGV0IHN1cHBsaWVz                       14.181875"
      ]
     },
     "execution_count": 21,
     "metadata": {},
     "output_type": "execute_result"
    }
   ],
   "source": [
    "df.groupby(by = 'category').mean()"
   ]
  },
  {
   "cell_type": "code",
   "execution_count": 22,
   "id": "4b15be06",
   "metadata": {},
   "outputs": [],
   "source": [
    "category = ['Q2xvdGhpbmcgYW5kIEFjY2Vzc29yaWVz',\n",
    "'QXJ0IHN1cHBsaWVz',\n",
    "'QmFieWNhcmU',\n",
    "'RWxlY3Ryb25pY3M',\n",
    "'SG91c2Vob2xkIGFuZCBDbGVhbmluZw',\n",
    "'SGVhbHRo',\n",
    "'VG95cyBhbmQgR2FtZXM',\n",
    "'VG9vbHMgYW5kIGhvbWUgaW1wcm92ZW1lbnQ',\n",
    "'YmVhdXR5IGFuZCBwZXJzb25hbCBjYXJl',\n",
    "'Z3JvY2VyaWVz',\n",
    "'a2l0Y2hpbmcgYW5kIGRpbmluZw',\n",
    "'b2ZmaWNlIHByb2R1Y3Rz',\n",
    "'cGV0IHN1cHBsaWVz']"
   ]
  },
  {
   "cell_type": "code",
   "execution_count": 23,
   "id": "264973ad",
   "metadata": {},
   "outputs": [],
   "source": [
    "heights = [125.413871\n",
    ",19.471053\n",
    ",163.688889\n",
    ",60.258182\n",
    ",76.199000\n",
    ",32.557586\n",
    ",32.448947\n",
    ",82.223500\n",
    ",34.745067\n",
    ",10.541667\n",
    ",16.703235\n",
    ",20.480000\n",
    ",14.181875]"
   ]
  },
  {
   "cell_type": "code",
   "execution_count": 24,
   "id": "197cee29",
   "metadata": {},
   "outputs": [
    {
     "data": {
      "text/plain": [
       "([0, 1, 2, 3, 4, 5, 6, 7, 8, 9, 10, 11, 12],\n",
       " [Text(0, 0, ''),\n",
       "  Text(0, 0, ''),\n",
       "  Text(0, 0, ''),\n",
       "  Text(0, 0, ''),\n",
       "  Text(0, 0, ''),\n",
       "  Text(0, 0, ''),\n",
       "  Text(0, 0, ''),\n",
       "  Text(0, 0, ''),\n",
       "  Text(0, 0, ''),\n",
       "  Text(0, 0, ''),\n",
       "  Text(0, 0, ''),\n",
       "  Text(0, 0, ''),\n",
       "  Text(0, 0, '')])"
      ]
     },
     "execution_count": 24,
     "metadata": {},
     "output_type": "execute_result"
    },
    {
     "data": {
      "image/png": "[encoded data removed]",
      "text/plain": [
       "<Figure size 864x576 with 1 Axes>"
      ]
     },
     "metadata": {
      "needs_background": "light"
     },
     "output_type": "display_data"
    }
   ],
   "source": [
    "plt.figure(figsize = (12,8))\n",
    "plt.bar(x = category,height = heights)\n",
    "plt.xticks(rotation = 90)"
   ]
  }
 ],
 "metadata": {
  "kernelspec": {
   "display_name": "Python 3",
   "language": "python",
   "name": "python3"
  },
  "language_info": {
   "codemirror_mode": {
    "name": "ipython",
    "version": 3
   },
   "file_extension": ".py",
   "mimetype": "text/x-python",
   "name": "python",
   "nbconvert_exporter": "python",
   "pygments_lexer": "ipython3",
   "version": "3.8.8"
  }
 },
 "nbformat": 4,
 "nbformat_minor": 5
}
